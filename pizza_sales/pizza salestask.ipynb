{
 "cells": [
  {
   "cell_type": "markdown",
   "id": "add37c93",
   "metadata": {},
   "source": [
    "**Task Three : Analyzing Pizza Sales Data**"
   ]
  },
  {
   "cell_type": "code",
   "execution_count": 1,
   "id": "a2c92430",
   "metadata": {},
   "outputs": [],
   "source": [
    "#Importing Libaries\n",
    "import pandas as pd\n",
    "import matplotlib.pyplot as plt\n",
    "import seaborn as sns\n",
    "import math"
   ]
  },
  {
   "cell_type": "markdown",
   "id": "e18249b2",
   "metadata": {},
   "source": [
    "*Importing the Datasets*"
   ]
  },
  {
   "cell_type": "code",
   "execution_count": 3,
   "id": "89054a63",
   "metadata": {},
   "outputs": [],
   "source": [
    "data = pd.read_csv(\"data_dictionary.csv\")\n",
    "df = pd.read_csv(\"order_details.csv\")\n",
    "df2 = pd.read_csv(\"orders.csv\")\n",
    "df3 = pd.read_csv(\"pizza_types.csv\", encoding=\"latin1\")\n",
    "df4 = pd.read_csv(\"pizzas.csv\", encoding=\"latin1\")\n",
    "\n"
   ]
  },
  {
   "cell_type": "markdown",
   "id": "e5d8e88a",
   "metadata": {},
   "source": [
    "*Checking the datasets, (size and info)*"
   ]
  },
  {
   "cell_type": "code",
   "execution_count": 5,
   "id": "b3ca1671",
   "metadata": {},
   "outputs": [
    {
     "data": {
      "text/html": [
       "<div>\n",
       "<style scoped>\n",
       "    .dataframe tbody tr th:only-of-type {\n",
       "        vertical-align: middle;\n",
       "    }\n",
       "\n",
       "    .dataframe tbody tr th {\n",
       "        vertical-align: top;\n",
       "    }\n",
       "\n",
       "    .dataframe thead th {\n",
       "        text-align: right;\n",
       "    }\n",
       "</style>\n",
       "<table border=\"1\" class=\"dataframe\">\n",
       "  <thead>\n",
       "    <tr style=\"text-align: right;\">\n",
       "      <th></th>\n",
       "      <th>Table</th>\n",
       "      <th>Field</th>\n",
       "      <th>Description</th>\n",
       "    </tr>\n",
       "  </thead>\n",
       "  <tbody>\n",
       "    <tr>\n",
       "      <th>0</th>\n",
       "      <td>orders</td>\n",
       "      <td>order_id</td>\n",
       "      <td>Unique identifier for each order placed by a t...</td>\n",
       "    </tr>\n",
       "    <tr>\n",
       "      <th>1</th>\n",
       "      <td>orders</td>\n",
       "      <td>date</td>\n",
       "      <td>Date the order was placed (entered into the sy...</td>\n",
       "    </tr>\n",
       "    <tr>\n",
       "      <th>2</th>\n",
       "      <td>orders</td>\n",
       "      <td>time</td>\n",
       "      <td>Time the order was placed (entered into the sy...</td>\n",
       "    </tr>\n",
       "    <tr>\n",
       "      <th>3</th>\n",
       "      <td>order_details</td>\n",
       "      <td>order_details_id</td>\n",
       "      <td>Unique identifier for each pizza placed within...</td>\n",
       "    </tr>\n",
       "    <tr>\n",
       "      <th>4</th>\n",
       "      <td>order_details</td>\n",
       "      <td>order_id</td>\n",
       "      <td>Foreign key that ties the details in each orde...</td>\n",
       "    </tr>\n",
       "  </tbody>\n",
       "</table>\n",
       "</div>"
      ],
      "text/plain": [
       "           Table             Field  \\\n",
       "0         orders          order_id   \n",
       "1         orders              date   \n",
       "2         orders              time   \n",
       "3  order_details  order_details_id   \n",
       "4  order_details          order_id   \n",
       "\n",
       "                                         Description  \n",
       "0  Unique identifier for each order placed by a t...  \n",
       "1  Date the order was placed (entered into the sy...  \n",
       "2  Time the order was placed (entered into the sy...  \n",
       "3  Unique identifier for each pizza placed within...  \n",
       "4  Foreign key that ties the details in each orde...  "
      ]
     },
     "execution_count": 5,
     "metadata": {},
     "output_type": "execute_result"
    }
   ],
   "source": [
    "data.head()"
   ]
  },
  {
   "cell_type": "code",
   "execution_count": 6,
   "id": "172d7b93",
   "metadata": {},
   "outputs": [
    {
     "name": "stdout",
     "output_type": "stream",
     "text": [
      "<class 'pandas.core.frame.DataFrame'>\n",
      "RangeIndex: 15 entries, 0 to 14\n",
      "Data columns (total 3 columns):\n",
      " #   Column       Non-Null Count  Dtype \n",
      "---  ------       --------------  ----- \n",
      " 0   Table        15 non-null     object\n",
      " 1   Field        15 non-null     object\n",
      " 2   Description  15 non-null     object\n",
      "dtypes: object(3)\n",
      "memory usage: 492.0+ bytes\n"
     ]
    }
   ],
   "source": [
    "data.info()"
   ]
  },
  {
   "cell_type": "code",
   "execution_count": null,
   "id": "4cb3f651",
   "metadata": {},
   "outputs": [
    {
     "data": {
      "text/html": [
       "<div>\n",
       "<style scoped>\n",
       "    .dataframe tbody tr th:only-of-type {\n",
       "        vertical-align: middle;\n",
       "    }\n",
       "\n",
       "    .dataframe tbody tr th {\n",
       "        vertical-align: top;\n",
       "    }\n",
       "\n",
       "    .dataframe thead th {\n",
       "        text-align: right;\n",
       "    }\n",
       "</style>\n",
       "<table border=\"1\" class=\"dataframe\">\n",
       "  <thead>\n",
       "    <tr style=\"text-align: right;\">\n",
       "      <th></th>\n",
       "      <th>order_details_id</th>\n",
       "      <th>order_id</th>\n",
       "      <th>pizza_id</th>\n",
       "      <th>quantity</th>\n",
       "    </tr>\n",
       "  </thead>\n",
       "  <tbody>\n",
       "    <tr>\n",
       "      <th>0</th>\n",
       "      <td>1</td>\n",
       "      <td>1</td>\n",
       "      <td>hawaiian_m</td>\n",
       "      <td>1</td>\n",
       "    </tr>\n",
       "    <tr>\n",
       "      <th>1</th>\n",
       "      <td>2</td>\n",
       "      <td>2</td>\n",
       "      <td>classic_dlx_m</td>\n",
       "      <td>1</td>\n",
       "    </tr>\n",
       "    <tr>\n",
       "      <th>2</th>\n",
       "      <td>3</td>\n",
       "      <td>2</td>\n",
       "      <td>five_cheese_l</td>\n",
       "      <td>1</td>\n",
       "    </tr>\n",
       "    <tr>\n",
       "      <th>3</th>\n",
       "      <td>4</td>\n",
       "      <td>2</td>\n",
       "      <td>ital_supr_l</td>\n",
       "      <td>1</td>\n",
       "    </tr>\n",
       "    <tr>\n",
       "      <th>4</th>\n",
       "      <td>5</td>\n",
       "      <td>2</td>\n",
       "      <td>mexicana_m</td>\n",
       "      <td>1</td>\n",
       "    </tr>\n",
       "  </tbody>\n",
       "</table>\n",
       "</div>"
      ],
      "text/plain": [
       "   order_details_id  order_id       pizza_id  quantity\n",
       "0                 1         1     hawaiian_m         1\n",
       "1                 2         2  classic_dlx_m         1\n",
       "2                 3         2  five_cheese_l         1\n",
       "3                 4         2    ital_supr_l         1\n",
       "4                 5         2     mexicana_m         1"
      ]
     },
     "execution_count": 7,
     "metadata": {},
     "output_type": "execute_result"
    }
   ],
   "source": [
    "df.head()"
   ]
  },
  {
   "cell_type": "code",
   "execution_count": 8,
   "id": "cd80ca3f",
   "metadata": {},
   "outputs": [
    {
     "data": {
      "text/plain": [
       "(48620, 4)"
      ]
     },
     "execution_count": 8,
     "metadata": {},
     "output_type": "execute_result"
    }
   ],
   "source": [
    "df.shape"
   ]
  },
  {
   "cell_type": "code",
   "execution_count": null,
   "id": "a40cc9d8",
   "metadata": {},
   "outputs": [
    {
     "data": {
      "text/html": [
       "<div>\n",
       "<style scoped>\n",
       "    .dataframe tbody tr th:only-of-type {\n",
       "        vertical-align: middle;\n",
       "    }\n",
       "\n",
       "    .dataframe tbody tr th {\n",
       "        vertical-align: top;\n",
       "    }\n",
       "\n",
       "    .dataframe thead th {\n",
       "        text-align: right;\n",
       "    }\n",
       "</style>\n",
       "<table border=\"1\" class=\"dataframe\">\n",
       "  <thead>\n",
       "    <tr style=\"text-align: right;\">\n",
       "      <th></th>\n",
       "      <th>order_id</th>\n",
       "      <th>date</th>\n",
       "      <th>time</th>\n",
       "    </tr>\n",
       "  </thead>\n",
       "  <tbody>\n",
       "    <tr>\n",
       "      <th>0</th>\n",
       "      <td>1</td>\n",
       "      <td>2015-01-01</td>\n",
       "      <td>11:38:36</td>\n",
       "    </tr>\n",
       "    <tr>\n",
       "      <th>1</th>\n",
       "      <td>2</td>\n",
       "      <td>2015-01-01</td>\n",
       "      <td>11:57:40</td>\n",
       "    </tr>\n",
       "    <tr>\n",
       "      <th>2</th>\n",
       "      <td>3</td>\n",
       "      <td>2015-01-01</td>\n",
       "      <td>12:12:28</td>\n",
       "    </tr>\n",
       "    <tr>\n",
       "      <th>3</th>\n",
       "      <td>4</td>\n",
       "      <td>2015-01-01</td>\n",
       "      <td>12:16:31</td>\n",
       "    </tr>\n",
       "    <tr>\n",
       "      <th>4</th>\n",
       "      <td>5</td>\n",
       "      <td>2015-01-01</td>\n",
       "      <td>12:21:30</td>\n",
       "    </tr>\n",
       "  </tbody>\n",
       "</table>\n",
       "</div>"
      ],
      "text/plain": [
       "   order_id        date      time\n",
       "0         1  2015-01-01  11:38:36\n",
       "1         2  2015-01-01  11:57:40\n",
       "2         3  2015-01-01  12:12:28\n",
       "3         4  2015-01-01  12:16:31\n",
       "4         5  2015-01-01  12:21:30"
      ]
     },
     "execution_count": 9,
     "metadata": {},
     "output_type": "execute_result"
    }
   ],
   "source": [
    "df2.head()"
   ]
  },
  {
   "cell_type": "code",
   "execution_count": 10,
   "id": "1065652d",
   "metadata": {},
   "outputs": [
    {
     "data": {
      "text/plain": [
       "(48620, 4)"
      ]
     },
     "execution_count": 10,
     "metadata": {},
     "output_type": "execute_result"
    }
   ],
   "source": [
    "df.shape"
   ]
  },
  {
   "cell_type": "code",
   "execution_count": null,
   "id": "8ec76827",
   "metadata": {},
   "outputs": [
    {
     "data": {
      "text/html": [
       "<div>\n",
       "<style scoped>\n",
       "    .dataframe tbody tr th:only-of-type {\n",
       "        vertical-align: middle;\n",
       "    }\n",
       "\n",
       "    .dataframe tbody tr th {\n",
       "        vertical-align: top;\n",
       "    }\n",
       "\n",
       "    .dataframe thead th {\n",
       "        text-align: right;\n",
       "    }\n",
       "</style>\n",
       "<table border=\"1\" class=\"dataframe\">\n",
       "  <thead>\n",
       "    <tr style=\"text-align: right;\">\n",
       "      <th></th>\n",
       "      <th>pizza_type_id</th>\n",
       "      <th>name</th>\n",
       "      <th>category</th>\n",
       "      <th>ingredients</th>\n",
       "    </tr>\n",
       "  </thead>\n",
       "  <tbody>\n",
       "    <tr>\n",
       "      <th>0</th>\n",
       "      <td>bbq_ckn</td>\n",
       "      <td>The Barbecue Chicken Pizza</td>\n",
       "      <td>Chicken</td>\n",
       "      <td>Barbecued Chicken, Red Peppers, Green Peppers,...</td>\n",
       "    </tr>\n",
       "    <tr>\n",
       "      <th>1</th>\n",
       "      <td>cali_ckn</td>\n",
       "      <td>The California Chicken Pizza</td>\n",
       "      <td>Chicken</td>\n",
       "      <td>Chicken, Artichoke, Spinach, Garlic, Jalapeno ...</td>\n",
       "    </tr>\n",
       "    <tr>\n",
       "      <th>2</th>\n",
       "      <td>ckn_alfredo</td>\n",
       "      <td>The Chicken Alfredo Pizza</td>\n",
       "      <td>Chicken</td>\n",
       "      <td>Chicken, Red Onions, Red Peppers, Mushrooms, A...</td>\n",
       "    </tr>\n",
       "    <tr>\n",
       "      <th>3</th>\n",
       "      <td>ckn_pesto</td>\n",
       "      <td>The Chicken Pesto Pizza</td>\n",
       "      <td>Chicken</td>\n",
       "      <td>Chicken, Tomatoes, Red Peppers, Spinach, Garli...</td>\n",
       "    </tr>\n",
       "    <tr>\n",
       "      <th>4</th>\n",
       "      <td>southw_ckn</td>\n",
       "      <td>The Southwest Chicken Pizza</td>\n",
       "      <td>Chicken</td>\n",
       "      <td>Chicken, Tomatoes, Red Peppers, Red Onions, Ja...</td>\n",
       "    </tr>\n",
       "  </tbody>\n",
       "</table>\n",
       "</div>"
      ],
      "text/plain": [
       "  pizza_type_id                          name category  \\\n",
       "0       bbq_ckn    The Barbecue Chicken Pizza  Chicken   \n",
       "1      cali_ckn  The California Chicken Pizza  Chicken   \n",
       "2   ckn_alfredo     The Chicken Alfredo Pizza  Chicken   \n",
       "3     ckn_pesto       The Chicken Pesto Pizza  Chicken   \n",
       "4    southw_ckn   The Southwest Chicken Pizza  Chicken   \n",
       "\n",
       "                                         ingredients  \n",
       "0  Barbecued Chicken, Red Peppers, Green Peppers,...  \n",
       "1  Chicken, Artichoke, Spinach, Garlic, Jalapeno ...  \n",
       "2  Chicken, Red Onions, Red Peppers, Mushrooms, A...  \n",
       "3  Chicken, Tomatoes, Red Peppers, Spinach, Garli...  \n",
       "4  Chicken, Tomatoes, Red Peppers, Red Onions, Ja...  "
      ]
     },
     "execution_count": 11,
     "metadata": {},
     "output_type": "execute_result"
    }
   ],
   "source": [
    "df3.head()\n"
   ]
  },
  {
   "cell_type": "code",
   "execution_count": 12,
   "id": "14b91621",
   "metadata": {},
   "outputs": [
    {
     "data": {
      "text/plain": [
       "(32, 4)"
      ]
     },
     "execution_count": 12,
     "metadata": {},
     "output_type": "execute_result"
    }
   ],
   "source": [
    "df3.shape"
   ]
  },
  {
   "cell_type": "code",
   "execution_count": null,
   "id": "84deb85e",
   "metadata": {},
   "outputs": [
    {
     "data": {
      "text/html": [
       "<div>\n",
       "<style scoped>\n",
       "    .dataframe tbody tr th:only-of-type {\n",
       "        vertical-align: middle;\n",
       "    }\n",
       "\n",
       "    .dataframe tbody tr th {\n",
       "        vertical-align: top;\n",
       "    }\n",
       "\n",
       "    .dataframe thead th {\n",
       "        text-align: right;\n",
       "    }\n",
       "</style>\n",
       "<table border=\"1\" class=\"dataframe\">\n",
       "  <thead>\n",
       "    <tr style=\"text-align: right;\">\n",
       "      <th></th>\n",
       "      <th>pizza_id</th>\n",
       "      <th>pizza_type_id</th>\n",
       "      <th>size</th>\n",
       "      <th>price</th>\n",
       "    </tr>\n",
       "  </thead>\n",
       "  <tbody>\n",
       "    <tr>\n",
       "      <th>0</th>\n",
       "      <td>bbq_ckn_s</td>\n",
       "      <td>bbq_ckn</td>\n",
       "      <td>S</td>\n",
       "      <td>12.75</td>\n",
       "    </tr>\n",
       "    <tr>\n",
       "      <th>1</th>\n",
       "      <td>bbq_ckn_m</td>\n",
       "      <td>bbq_ckn</td>\n",
       "      <td>M</td>\n",
       "      <td>16.75</td>\n",
       "    </tr>\n",
       "    <tr>\n",
       "      <th>2</th>\n",
       "      <td>bbq_ckn_l</td>\n",
       "      <td>bbq_ckn</td>\n",
       "      <td>L</td>\n",
       "      <td>20.75</td>\n",
       "    </tr>\n",
       "    <tr>\n",
       "      <th>3</th>\n",
       "      <td>cali_ckn_s</td>\n",
       "      <td>cali_ckn</td>\n",
       "      <td>S</td>\n",
       "      <td>12.75</td>\n",
       "    </tr>\n",
       "    <tr>\n",
       "      <th>4</th>\n",
       "      <td>cali_ckn_m</td>\n",
       "      <td>cali_ckn</td>\n",
       "      <td>M</td>\n",
       "      <td>16.75</td>\n",
       "    </tr>\n",
       "  </tbody>\n",
       "</table>\n",
       "</div>"
      ],
      "text/plain": [
       "     pizza_id pizza_type_id size  price\n",
       "0   bbq_ckn_s       bbq_ckn    S  12.75\n",
       "1   bbq_ckn_m       bbq_ckn    M  16.75\n",
       "2   bbq_ckn_l       bbq_ckn    L  20.75\n",
       "3  cali_ckn_s      cali_ckn    S  12.75\n",
       "4  cali_ckn_m      cali_ckn    M  16.75"
      ]
     },
     "execution_count": 13,
     "metadata": {},
     "output_type": "execute_result"
    }
   ],
   "source": [
    "df4.head()"
   ]
  },
  {
   "cell_type": "code",
   "execution_count": 4,
   "id": "18e66b95",
   "metadata": {},
   "outputs": [
    {
     "data": {
      "text/plain": [
       "(96, 4)"
      ]
     },
     "execution_count": 4,
     "metadata": {},
     "output_type": "execute_result"
    }
   ],
   "source": [
    "df4.shape"
   ]
  },
  {
   "cell_type": "markdown",
   "id": "769ee4c4",
   "metadata": {},
   "source": [
    "*Join Datasets*"
   ]
  },
  {
   "cell_type": "code",
   "execution_count": null,
   "id": "0e7d3d38",
   "metadata": {},
   "outputs": [
    {
     "data": {
      "text/html": [
       "<div>\n",
       "<style scoped>\n",
       "    .dataframe tbody tr th:only-of-type {\n",
       "        vertical-align: middle;\n",
       "    }\n",
       "\n",
       "    .dataframe tbody tr th {\n",
       "        vertical-align: top;\n",
       "    }\n",
       "\n",
       "    .dataframe thead th {\n",
       "        text-align: right;\n",
       "    }\n",
       "</style>\n",
       "<table border=\"1\" class=\"dataframe\">\n",
       "  <thead>\n",
       "    <tr style=\"text-align: right;\">\n",
       "      <th></th>\n",
       "      <th>pizza_type_id</th>\n",
       "      <th>name</th>\n",
       "      <th>category</th>\n",
       "      <th>ingredients</th>\n",
       "      <th>pizza_id</th>\n",
       "      <th>size</th>\n",
       "      <th>price</th>\n",
       "    </tr>\n",
       "  </thead>\n",
       "  <tbody>\n",
       "    <tr>\n",
       "      <th>0</th>\n",
       "      <td>bbq_ckn</td>\n",
       "      <td>The Barbecue Chicken Pizza</td>\n",
       "      <td>Chicken</td>\n",
       "      <td>Barbecued Chicken, Red Peppers, Green Peppers,...</td>\n",
       "      <td>bbq_ckn_s</td>\n",
       "      <td>S</td>\n",
       "      <td>12.75</td>\n",
       "    </tr>\n",
       "    <tr>\n",
       "      <th>1</th>\n",
       "      <td>bbq_ckn</td>\n",
       "      <td>The Barbecue Chicken Pizza</td>\n",
       "      <td>Chicken</td>\n",
       "      <td>Barbecued Chicken, Red Peppers, Green Peppers,...</td>\n",
       "      <td>bbq_ckn_m</td>\n",
       "      <td>M</td>\n",
       "      <td>16.75</td>\n",
       "    </tr>\n",
       "    <tr>\n",
       "      <th>2</th>\n",
       "      <td>bbq_ckn</td>\n",
       "      <td>The Barbecue Chicken Pizza</td>\n",
       "      <td>Chicken</td>\n",
       "      <td>Barbecued Chicken, Red Peppers, Green Peppers,...</td>\n",
       "      <td>bbq_ckn_l</td>\n",
       "      <td>L</td>\n",
       "      <td>20.75</td>\n",
       "    </tr>\n",
       "    <tr>\n",
       "      <th>3</th>\n",
       "      <td>big_meat</td>\n",
       "      <td>The Big Meat Pizza</td>\n",
       "      <td>Classic</td>\n",
       "      <td>Bacon, Pepperoni, Italian Sausage, Chorizo Sau...</td>\n",
       "      <td>big_meat_s</td>\n",
       "      <td>S</td>\n",
       "      <td>12.00</td>\n",
       "    </tr>\n",
       "    <tr>\n",
       "      <th>4</th>\n",
       "      <td>big_meat</td>\n",
       "      <td>The Big Meat Pizza</td>\n",
       "      <td>Classic</td>\n",
       "      <td>Bacon, Pepperoni, Italian Sausage, Chorizo Sau...</td>\n",
       "      <td>big_meat_m</td>\n",
       "      <td>M</td>\n",
       "      <td>16.00</td>\n",
       "    </tr>\n",
       "    <tr>\n",
       "      <th>...</th>\n",
       "      <td>...</td>\n",
       "      <td>...</td>\n",
       "      <td>...</td>\n",
       "      <td>...</td>\n",
       "      <td>...</td>\n",
       "      <td>...</td>\n",
       "      <td>...</td>\n",
       "    </tr>\n",
       "    <tr>\n",
       "      <th>91</th>\n",
       "      <td>the_greek</td>\n",
       "      <td>The Greek Pizza</td>\n",
       "      <td>Classic</td>\n",
       "      <td>Kalamata Olives, Feta Cheese, Tomatoes, Garlic...</td>\n",
       "      <td>the_greek_xl</td>\n",
       "      <td>XL</td>\n",
       "      <td>25.50</td>\n",
       "    </tr>\n",
       "    <tr>\n",
       "      <th>92</th>\n",
       "      <td>the_greek</td>\n",
       "      <td>The Greek Pizza</td>\n",
       "      <td>Classic</td>\n",
       "      <td>Kalamata Olives, Feta Cheese, Tomatoes, Garlic...</td>\n",
       "      <td>the_greek_xxl</td>\n",
       "      <td>XXL</td>\n",
       "      <td>35.95</td>\n",
       "    </tr>\n",
       "    <tr>\n",
       "      <th>93</th>\n",
       "      <td>veggie_veg</td>\n",
       "      <td>The Vegetables + Vegetables Pizza</td>\n",
       "      <td>Veggie</td>\n",
       "      <td>Mushrooms, Tomatoes, Red Peppers, Green Pepper...</td>\n",
       "      <td>veggie_veg_s</td>\n",
       "      <td>S</td>\n",
       "      <td>12.00</td>\n",
       "    </tr>\n",
       "    <tr>\n",
       "      <th>94</th>\n",
       "      <td>veggie_veg</td>\n",
       "      <td>The Vegetables + Vegetables Pizza</td>\n",
       "      <td>Veggie</td>\n",
       "      <td>Mushrooms, Tomatoes, Red Peppers, Green Pepper...</td>\n",
       "      <td>veggie_veg_m</td>\n",
       "      <td>M</td>\n",
       "      <td>16.00</td>\n",
       "    </tr>\n",
       "    <tr>\n",
       "      <th>95</th>\n",
       "      <td>veggie_veg</td>\n",
       "      <td>The Vegetables + Vegetables Pizza</td>\n",
       "      <td>Veggie</td>\n",
       "      <td>Mushrooms, Tomatoes, Red Peppers, Green Pepper...</td>\n",
       "      <td>veggie_veg_l</td>\n",
       "      <td>L</td>\n",
       "      <td>20.25</td>\n",
       "    </tr>\n",
       "  </tbody>\n",
       "</table>\n",
       "<p>96 rows × 7 columns</p>\n",
       "</div>"
      ],
      "text/plain": [
       "   pizza_type_id                               name category  \\\n",
       "0        bbq_ckn         The Barbecue Chicken Pizza  Chicken   \n",
       "1        bbq_ckn         The Barbecue Chicken Pizza  Chicken   \n",
       "2        bbq_ckn         The Barbecue Chicken Pizza  Chicken   \n",
       "3       big_meat                 The Big Meat Pizza  Classic   \n",
       "4       big_meat                 The Big Meat Pizza  Classic   \n",
       "..           ...                                ...      ...   \n",
       "91     the_greek                    The Greek Pizza  Classic   \n",
       "92     the_greek                    The Greek Pizza  Classic   \n",
       "93    veggie_veg  The Vegetables + Vegetables Pizza   Veggie   \n",
       "94    veggie_veg  The Vegetables + Vegetables Pizza   Veggie   \n",
       "95    veggie_veg  The Vegetables + Vegetables Pizza   Veggie   \n",
       "\n",
       "                                          ingredients       pizza_id size  \\\n",
       "0   Barbecued Chicken, Red Peppers, Green Peppers,...      bbq_ckn_s    S   \n",
       "1   Barbecued Chicken, Red Peppers, Green Peppers,...      bbq_ckn_m    M   \n",
       "2   Barbecued Chicken, Red Peppers, Green Peppers,...      bbq_ckn_l    L   \n",
       "3   Bacon, Pepperoni, Italian Sausage, Chorizo Sau...     big_meat_s    S   \n",
       "4   Bacon, Pepperoni, Italian Sausage, Chorizo Sau...     big_meat_m    M   \n",
       "..                                                ...            ...  ...   \n",
       "91  Kalamata Olives, Feta Cheese, Tomatoes, Garlic...   the_greek_xl   XL   \n",
       "92  Kalamata Olives, Feta Cheese, Tomatoes, Garlic...  the_greek_xxl  XXL   \n",
       "93  Mushrooms, Tomatoes, Red Peppers, Green Pepper...   veggie_veg_s    S   \n",
       "94  Mushrooms, Tomatoes, Red Peppers, Green Pepper...   veggie_veg_m    M   \n",
       "95  Mushrooms, Tomatoes, Red Peppers, Green Pepper...   veggie_veg_l    L   \n",
       "\n",
       "    price  \n",
       "0   12.75  \n",
       "1   16.75  \n",
       "2   20.75  \n",
       "3   12.00  \n",
       "4   16.00  \n",
       "..    ...  \n",
       "91  25.50  \n",
       "92  35.95  \n",
       "93  12.00  \n",
       "94  16.00  \n",
       "95  20.25  \n",
       "\n",
       "[96 rows x 7 columns]"
      ]
     },
     "execution_count": 7,
     "metadata": {},
     "output_type": "execute_result"
    }
   ],
   "source": [
    "#Joining the pizza table on the pizza type id column \n",
    "df_pizzas = pd.merge(df3,df4, on='pizza_type_id', how='outer')\n",
    "\n",
    "df_pizzas"
   ]
  },
  {
   "cell_type": "code",
   "execution_count": 8,
   "id": "583f6f8c",
   "metadata": {},
   "outputs": [],
   "source": [
    "#Joining the orders table on the order id column\n",
    "df_orders = pd.merge(df,df2, on='order_id', how='outer')"
   ]
  },
  {
   "cell_type": "code",
   "execution_count": 9,
   "id": "4f707801",
   "metadata": {},
   "outputs": [
    {
     "data": {
      "text/html": [
       "<div>\n",
       "<style scoped>\n",
       "    .dataframe tbody tr th:only-of-type {\n",
       "        vertical-align: middle;\n",
       "    }\n",
       "\n",
       "    .dataframe tbody tr th {\n",
       "        vertical-align: top;\n",
       "    }\n",
       "\n",
       "    .dataframe thead th {\n",
       "        text-align: right;\n",
       "    }\n",
       "</style>\n",
       "<table border=\"1\" class=\"dataframe\">\n",
       "  <thead>\n",
       "    <tr style=\"text-align: right;\">\n",
       "      <th></th>\n",
       "      <th>order_details_id</th>\n",
       "      <th>order_id</th>\n",
       "      <th>pizza_id</th>\n",
       "      <th>quantity</th>\n",
       "      <th>date</th>\n",
       "      <th>time</th>\n",
       "    </tr>\n",
       "  </thead>\n",
       "  <tbody>\n",
       "    <tr>\n",
       "      <th>0</th>\n",
       "      <td>1</td>\n",
       "      <td>1</td>\n",
       "      <td>hawaiian_m</td>\n",
       "      <td>1</td>\n",
       "      <td>2015-01-01</td>\n",
       "      <td>11:38:36</td>\n",
       "    </tr>\n",
       "    <tr>\n",
       "      <th>1</th>\n",
       "      <td>2</td>\n",
       "      <td>2</td>\n",
       "      <td>classic_dlx_m</td>\n",
       "      <td>1</td>\n",
       "      <td>2015-01-01</td>\n",
       "      <td>11:57:40</td>\n",
       "    </tr>\n",
       "    <tr>\n",
       "      <th>2</th>\n",
       "      <td>3</td>\n",
       "      <td>2</td>\n",
       "      <td>five_cheese_l</td>\n",
       "      <td>1</td>\n",
       "      <td>2015-01-01</td>\n",
       "      <td>11:57:40</td>\n",
       "    </tr>\n",
       "    <tr>\n",
       "      <th>3</th>\n",
       "      <td>4</td>\n",
       "      <td>2</td>\n",
       "      <td>ital_supr_l</td>\n",
       "      <td>1</td>\n",
       "      <td>2015-01-01</td>\n",
       "      <td>11:57:40</td>\n",
       "    </tr>\n",
       "    <tr>\n",
       "      <th>4</th>\n",
       "      <td>5</td>\n",
       "      <td>2</td>\n",
       "      <td>mexicana_m</td>\n",
       "      <td>1</td>\n",
       "      <td>2015-01-01</td>\n",
       "      <td>11:57:40</td>\n",
       "    </tr>\n",
       "    <tr>\n",
       "      <th>...</th>\n",
       "      <td>...</td>\n",
       "      <td>...</td>\n",
       "      <td>...</td>\n",
       "      <td>...</td>\n",
       "      <td>...</td>\n",
       "      <td>...</td>\n",
       "    </tr>\n",
       "    <tr>\n",
       "      <th>48615</th>\n",
       "      <td>48616</td>\n",
       "      <td>21348</td>\n",
       "      <td>ckn_alfredo_m</td>\n",
       "      <td>1</td>\n",
       "      <td>2015-12-31</td>\n",
       "      <td>21:23:10</td>\n",
       "    </tr>\n",
       "    <tr>\n",
       "      <th>48616</th>\n",
       "      <td>48617</td>\n",
       "      <td>21348</td>\n",
       "      <td>four_cheese_l</td>\n",
       "      <td>1</td>\n",
       "      <td>2015-12-31</td>\n",
       "      <td>21:23:10</td>\n",
       "    </tr>\n",
       "    <tr>\n",
       "      <th>48617</th>\n",
       "      <td>48618</td>\n",
       "      <td>21348</td>\n",
       "      <td>napolitana_s</td>\n",
       "      <td>1</td>\n",
       "      <td>2015-12-31</td>\n",
       "      <td>21:23:10</td>\n",
       "    </tr>\n",
       "    <tr>\n",
       "      <th>48618</th>\n",
       "      <td>48619</td>\n",
       "      <td>21349</td>\n",
       "      <td>mexicana_l</td>\n",
       "      <td>1</td>\n",
       "      <td>2015-12-31</td>\n",
       "      <td>22:09:54</td>\n",
       "    </tr>\n",
       "    <tr>\n",
       "      <th>48619</th>\n",
       "      <td>48620</td>\n",
       "      <td>21350</td>\n",
       "      <td>bbq_ckn_s</td>\n",
       "      <td>1</td>\n",
       "      <td>2015-12-31</td>\n",
       "      <td>23:02:05</td>\n",
       "    </tr>\n",
       "  </tbody>\n",
       "</table>\n",
       "<p>48620 rows × 6 columns</p>\n",
       "</div>"
      ],
      "text/plain": [
       "       order_details_id  order_id       pizza_id  quantity        date  \\\n",
       "0                     1         1     hawaiian_m         1  2015-01-01   \n",
       "1                     2         2  classic_dlx_m         1  2015-01-01   \n",
       "2                     3         2  five_cheese_l         1  2015-01-01   \n",
       "3                     4         2    ital_supr_l         1  2015-01-01   \n",
       "4                     5         2     mexicana_m         1  2015-01-01   \n",
       "...                 ...       ...            ...       ...         ...   \n",
       "48615             48616     21348  ckn_alfredo_m         1  2015-12-31   \n",
       "48616             48617     21348  four_cheese_l         1  2015-12-31   \n",
       "48617             48618     21348   napolitana_s         1  2015-12-31   \n",
       "48618             48619     21349     mexicana_l         1  2015-12-31   \n",
       "48619             48620     21350      bbq_ckn_s         1  2015-12-31   \n",
       "\n",
       "           time  \n",
       "0      11:38:36  \n",
       "1      11:57:40  \n",
       "2      11:57:40  \n",
       "3      11:57:40  \n",
       "4      11:57:40  \n",
       "...         ...  \n",
       "48615  21:23:10  \n",
       "48616  21:23:10  \n",
       "48617  21:23:10  \n",
       "48618  22:09:54  \n",
       "48619  23:02:05  \n",
       "\n",
       "[48620 rows x 6 columns]"
      ]
     },
     "execution_count": 9,
     "metadata": {},
     "output_type": "execute_result"
    }
   ],
   "source": [
    "df_orders"
   ]
  },
  {
   "cell_type": "code",
   "execution_count": 18,
   "id": "a917d018",
   "metadata": {},
   "outputs": [
    {
     "name": "stdout",
     "output_type": "stream",
     "text": [
      "<class 'pandas.core.frame.DataFrame'>\n",
      "RangeIndex: 48620 entries, 0 to 48619\n",
      "Data columns (total 6 columns):\n",
      " #   Column            Non-Null Count  Dtype \n",
      "---  ------            --------------  ----- \n",
      " 0   order_details_id  48620 non-null  int64 \n",
      " 1   order_id          48620 non-null  int64 \n",
      " 2   pizza_id          48620 non-null  object\n",
      " 3   quantity          48620 non-null  int64 \n",
      " 4   date              48620 non-null  object\n",
      " 5   time              48620 non-null  object\n",
      "dtypes: int64(3), object(3)\n",
      "memory usage: 2.2+ MB\n"
     ]
    }
   ],
   "source": [
    "df_orders.info()"
   ]
  },
  {
   "cell_type": "code",
   "execution_count": 19,
   "id": "877cdb83",
   "metadata": {},
   "outputs": [
    {
     "name": "stdout",
     "output_type": "stream",
     "text": [
      "<class 'pandas.core.frame.DataFrame'>\n",
      "RangeIndex: 96 entries, 0 to 95\n",
      "Data columns (total 7 columns):\n",
      " #   Column         Non-Null Count  Dtype  \n",
      "---  ------         --------------  -----  \n",
      " 0   pizza_type_id  96 non-null     object \n",
      " 1   name           96 non-null     object \n",
      " 2   category       96 non-null     object \n",
      " 3   ingredients    96 non-null     object \n",
      " 4   pizza_id       96 non-null     object \n",
      " 5   size           96 non-null     object \n",
      " 6   price          96 non-null     float64\n",
      "dtypes: float64(1), object(6)\n",
      "memory usage: 5.4+ KB\n"
     ]
    }
   ],
   "source": [
    "df_pizzas.info()"
   ]
  },
  {
   "cell_type": "code",
   "execution_count": 10,
   "id": "a1600bc6",
   "metadata": {},
   "outputs": [],
   "source": [
    "#Joined the pizza and orders table on the common pizza id column\n",
    "# #Final Dataset with all the tables\n",
    "final_df = pd.merge(df_orders,df_pizzas, on='pizza_id', how='outer')"
   ]
  },
  {
   "cell_type": "code",
   "execution_count": 11,
   "id": "f8ce2a0f",
   "metadata": {},
   "outputs": [
    {
     "data": {
      "text/html": [
       "<div>\n",
       "<style scoped>\n",
       "    .dataframe tbody tr th:only-of-type {\n",
       "        vertical-align: middle;\n",
       "    }\n",
       "\n",
       "    .dataframe tbody tr th {\n",
       "        vertical-align: top;\n",
       "    }\n",
       "\n",
       "    .dataframe thead th {\n",
       "        text-align: right;\n",
       "    }\n",
       "</style>\n",
       "<table border=\"1\" class=\"dataframe\">\n",
       "  <thead>\n",
       "    <tr style=\"text-align: right;\">\n",
       "      <th></th>\n",
       "      <th>order_details_id</th>\n",
       "      <th>order_id</th>\n",
       "      <th>pizza_id</th>\n",
       "      <th>quantity</th>\n",
       "      <th>date</th>\n",
       "      <th>time</th>\n",
       "      <th>pizza_type_id</th>\n",
       "      <th>name</th>\n",
       "      <th>category</th>\n",
       "      <th>ingredients</th>\n",
       "      <th>size</th>\n",
       "      <th>price</th>\n",
       "    </tr>\n",
       "  </thead>\n",
       "  <tbody>\n",
       "    <tr>\n",
       "      <th>0</th>\n",
       "      <td>26.0</td>\n",
       "      <td>11.0</td>\n",
       "      <td>bbq_ckn_l</td>\n",
       "      <td>1.0</td>\n",
       "      <td>2015-01-01</td>\n",
       "      <td>13:02:59</td>\n",
       "      <td>bbq_ckn</td>\n",
       "      <td>The Barbecue Chicken Pizza</td>\n",
       "      <td>Chicken</td>\n",
       "      <td>Barbecued Chicken, Red Peppers, Green Peppers,...</td>\n",
       "      <td>L</td>\n",
       "      <td>20.75</td>\n",
       "    </tr>\n",
       "    <tr>\n",
       "      <th>1</th>\n",
       "      <td>43.0</td>\n",
       "      <td>17.0</td>\n",
       "      <td>bbq_ckn_l</td>\n",
       "      <td>1.0</td>\n",
       "      <td>2015-01-01</td>\n",
       "      <td>13:53:00</td>\n",
       "      <td>bbq_ckn</td>\n",
       "      <td>The Barbecue Chicken Pizza</td>\n",
       "      <td>Chicken</td>\n",
       "      <td>Barbecued Chicken, Red Peppers, Green Peppers,...</td>\n",
       "      <td>L</td>\n",
       "      <td>20.75</td>\n",
       "    </tr>\n",
       "    <tr>\n",
       "      <th>2</th>\n",
       "      <td>71.0</td>\n",
       "      <td>27.0</td>\n",
       "      <td>bbq_ckn_l</td>\n",
       "      <td>1.0</td>\n",
       "      <td>2015-01-01</td>\n",
       "      <td>15:11:17</td>\n",
       "      <td>bbq_ckn</td>\n",
       "      <td>The Barbecue Chicken Pizza</td>\n",
       "      <td>Chicken</td>\n",
       "      <td>Barbecued Chicken, Red Peppers, Green Peppers,...</td>\n",
       "      <td>L</td>\n",
       "      <td>20.75</td>\n",
       "    </tr>\n",
       "    <tr>\n",
       "      <th>3</th>\n",
       "      <td>83.0</td>\n",
       "      <td>33.0</td>\n",
       "      <td>bbq_ckn_l</td>\n",
       "      <td>1.0</td>\n",
       "      <td>2015-01-01</td>\n",
       "      <td>15:54:08</td>\n",
       "      <td>bbq_ckn</td>\n",
       "      <td>The Barbecue Chicken Pizza</td>\n",
       "      <td>Chicken</td>\n",
       "      <td>Barbecued Chicken, Red Peppers, Green Peppers,...</td>\n",
       "      <td>L</td>\n",
       "      <td>20.75</td>\n",
       "    </tr>\n",
       "    <tr>\n",
       "      <th>4</th>\n",
       "      <td>123.0</td>\n",
       "      <td>51.0</td>\n",
       "      <td>bbq_ckn_l</td>\n",
       "      <td>1.0</td>\n",
       "      <td>2015-01-01</td>\n",
       "      <td>18:48:28</td>\n",
       "      <td>bbq_ckn</td>\n",
       "      <td>The Barbecue Chicken Pizza</td>\n",
       "      <td>Chicken</td>\n",
       "      <td>Barbecued Chicken, Red Peppers, Green Peppers,...</td>\n",
       "      <td>L</td>\n",
       "      <td>20.75</td>\n",
       "    </tr>\n",
       "  </tbody>\n",
       "</table>\n",
       "</div>"
      ],
      "text/plain": [
       "   order_details_id  order_id   pizza_id  quantity        date      time  \\\n",
       "0              26.0      11.0  bbq_ckn_l       1.0  2015-01-01  13:02:59   \n",
       "1              43.0      17.0  bbq_ckn_l       1.0  2015-01-01  13:53:00   \n",
       "2              71.0      27.0  bbq_ckn_l       1.0  2015-01-01  15:11:17   \n",
       "3              83.0      33.0  bbq_ckn_l       1.0  2015-01-01  15:54:08   \n",
       "4             123.0      51.0  bbq_ckn_l       1.0  2015-01-01  18:48:28   \n",
       "\n",
       "  pizza_type_id                        name category  \\\n",
       "0       bbq_ckn  The Barbecue Chicken Pizza  Chicken   \n",
       "1       bbq_ckn  The Barbecue Chicken Pizza  Chicken   \n",
       "2       bbq_ckn  The Barbecue Chicken Pizza  Chicken   \n",
       "3       bbq_ckn  The Barbecue Chicken Pizza  Chicken   \n",
       "4       bbq_ckn  The Barbecue Chicken Pizza  Chicken   \n",
       "\n",
       "                                         ingredients size  price  \n",
       "0  Barbecued Chicken, Red Peppers, Green Peppers,...    L  20.75  \n",
       "1  Barbecued Chicken, Red Peppers, Green Peppers,...    L  20.75  \n",
       "2  Barbecued Chicken, Red Peppers, Green Peppers,...    L  20.75  \n",
       "3  Barbecued Chicken, Red Peppers, Green Peppers,...    L  20.75  \n",
       "4  Barbecued Chicken, Red Peppers, Green Peppers,...    L  20.75  "
      ]
     },
     "execution_count": 11,
     "metadata": {},
     "output_type": "execute_result"
    }
   ],
   "source": [
    "final_df.head()"
   ]
  },
  {
   "cell_type": "code",
   "execution_count": 12,
   "id": "3acd5953",
   "metadata": {},
   "outputs": [],
   "source": [
    "#Saves our final dataset as a csv file\n",
    "final_df.to_csv(\"final_df\", index=False)"
   ]
  },
  {
   "cell_type": "code",
   "execution_count": 23,
   "id": "e4c71ab1",
   "metadata": {},
   "outputs": [
    {
     "name": "stdout",
     "output_type": "stream",
     "text": [
      "<class 'pandas.core.frame.DataFrame'>\n",
      "RangeIndex: 48625 entries, 0 to 48624\n",
      "Data columns (total 12 columns):\n",
      " #   Column            Non-Null Count  Dtype  \n",
      "---  ------            --------------  -----  \n",
      " 0   order_details_id  48620 non-null  float64\n",
      " 1   order_id          48620 non-null  float64\n",
      " 2   pizza_id          48625 non-null  object \n",
      " 3   quantity          48620 non-null  float64\n",
      " 4   date              48620 non-null  object \n",
      " 5   time              48620 non-null  object \n",
      " 6   pizza_type_id     48625 non-null  object \n",
      " 7   name              48625 non-null  object \n",
      " 8   category          48625 non-null  object \n",
      " 9   ingredients       48625 non-null  object \n",
      " 10  size              48625 non-null  object \n",
      " 11  price             48625 non-null  float64\n",
      "dtypes: float64(4), object(8)\n",
      "memory usage: 4.5+ MB\n"
     ]
    }
   ],
   "source": [
    "final_df.info()"
   ]
  },
  {
   "cell_type": "code",
   "execution_count": 24,
   "id": "1818f780",
   "metadata": {},
   "outputs": [
    {
     "data": {
      "text/html": [
       "<div>\n",
       "<style scoped>\n",
       "    .dataframe tbody tr th:only-of-type {\n",
       "        vertical-align: middle;\n",
       "    }\n",
       "\n",
       "    .dataframe tbody tr th {\n",
       "        vertical-align: top;\n",
       "    }\n",
       "\n",
       "    .dataframe thead th {\n",
       "        text-align: right;\n",
       "    }\n",
       "</style>\n",
       "<table border=\"1\" class=\"dataframe\">\n",
       "  <thead>\n",
       "    <tr style=\"text-align: right;\">\n",
       "      <th></th>\n",
       "      <th>order_details_id</th>\n",
       "      <th>order_id</th>\n",
       "      <th>pizza_id</th>\n",
       "      <th>quantity</th>\n",
       "      <th>date</th>\n",
       "      <th>time</th>\n",
       "      <th>pizza_type_id</th>\n",
       "      <th>name</th>\n",
       "      <th>category</th>\n",
       "      <th>ingredients</th>\n",
       "      <th>size</th>\n",
       "      <th>price</th>\n",
       "    </tr>\n",
       "  </thead>\n",
       "  <tbody>\n",
       "    <tr>\n",
       "      <th>0</th>\n",
       "      <td>26.0</td>\n",
       "      <td>11.0</td>\n",
       "      <td>bbq_ckn_l</td>\n",
       "      <td>1.0</td>\n",
       "      <td>2015-01-01</td>\n",
       "      <td>13:02:59</td>\n",
       "      <td>bbq_ckn</td>\n",
       "      <td>The Barbecue Chicken Pizza</td>\n",
       "      <td>Chicken</td>\n",
       "      <td>Barbecued Chicken, Red Peppers, Green Peppers,...</td>\n",
       "      <td>L</td>\n",
       "      <td>20.75</td>\n",
       "    </tr>\n",
       "    <tr>\n",
       "      <th>1</th>\n",
       "      <td>43.0</td>\n",
       "      <td>17.0</td>\n",
       "      <td>bbq_ckn_l</td>\n",
       "      <td>1.0</td>\n",
       "      <td>2015-01-01</td>\n",
       "      <td>13:53:00</td>\n",
       "      <td>bbq_ckn</td>\n",
       "      <td>The Barbecue Chicken Pizza</td>\n",
       "      <td>Chicken</td>\n",
       "      <td>Barbecued Chicken, Red Peppers, Green Peppers,...</td>\n",
       "      <td>L</td>\n",
       "      <td>20.75</td>\n",
       "    </tr>\n",
       "    <tr>\n",
       "      <th>2</th>\n",
       "      <td>71.0</td>\n",
       "      <td>27.0</td>\n",
       "      <td>bbq_ckn_l</td>\n",
       "      <td>1.0</td>\n",
       "      <td>2015-01-01</td>\n",
       "      <td>15:11:17</td>\n",
       "      <td>bbq_ckn</td>\n",
       "      <td>The Barbecue Chicken Pizza</td>\n",
       "      <td>Chicken</td>\n",
       "      <td>Barbecued Chicken, Red Peppers, Green Peppers,...</td>\n",
       "      <td>L</td>\n",
       "      <td>20.75</td>\n",
       "    </tr>\n",
       "    <tr>\n",
       "      <th>3</th>\n",
       "      <td>83.0</td>\n",
       "      <td>33.0</td>\n",
       "      <td>bbq_ckn_l</td>\n",
       "      <td>1.0</td>\n",
       "      <td>2015-01-01</td>\n",
       "      <td>15:54:08</td>\n",
       "      <td>bbq_ckn</td>\n",
       "      <td>The Barbecue Chicken Pizza</td>\n",
       "      <td>Chicken</td>\n",
       "      <td>Barbecued Chicken, Red Peppers, Green Peppers,...</td>\n",
       "      <td>L</td>\n",
       "      <td>20.75</td>\n",
       "    </tr>\n",
       "    <tr>\n",
       "      <th>4</th>\n",
       "      <td>123.0</td>\n",
       "      <td>51.0</td>\n",
       "      <td>bbq_ckn_l</td>\n",
       "      <td>1.0</td>\n",
       "      <td>2015-01-01</td>\n",
       "      <td>18:48:28</td>\n",
       "      <td>bbq_ckn</td>\n",
       "      <td>The Barbecue Chicken Pizza</td>\n",
       "      <td>Chicken</td>\n",
       "      <td>Barbecued Chicken, Red Peppers, Green Peppers,...</td>\n",
       "      <td>L</td>\n",
       "      <td>20.75</td>\n",
       "    </tr>\n",
       "  </tbody>\n",
       "</table>\n",
       "</div>"
      ],
      "text/plain": [
       "   order_details_id  order_id   pizza_id  quantity        date      time  \\\n",
       "0              26.0      11.0  bbq_ckn_l       1.0  2015-01-01  13:02:59   \n",
       "1              43.0      17.0  bbq_ckn_l       1.0  2015-01-01  13:53:00   \n",
       "2              71.0      27.0  bbq_ckn_l       1.0  2015-01-01  15:11:17   \n",
       "3              83.0      33.0  bbq_ckn_l       1.0  2015-01-01  15:54:08   \n",
       "4             123.0      51.0  bbq_ckn_l       1.0  2015-01-01  18:48:28   \n",
       "\n",
       "  pizza_type_id                        name category  \\\n",
       "0       bbq_ckn  The Barbecue Chicken Pizza  Chicken   \n",
       "1       bbq_ckn  The Barbecue Chicken Pizza  Chicken   \n",
       "2       bbq_ckn  The Barbecue Chicken Pizza  Chicken   \n",
       "3       bbq_ckn  The Barbecue Chicken Pizza  Chicken   \n",
       "4       bbq_ckn  The Barbecue Chicken Pizza  Chicken   \n",
       "\n",
       "                                         ingredients size  price  \n",
       "0  Barbecued Chicken, Red Peppers, Green Peppers,...    L  20.75  \n",
       "1  Barbecued Chicken, Red Peppers, Green Peppers,...    L  20.75  \n",
       "2  Barbecued Chicken, Red Peppers, Green Peppers,...    L  20.75  \n",
       "3  Barbecued Chicken, Red Peppers, Green Peppers,...    L  20.75  \n",
       "4  Barbecued Chicken, Red Peppers, Green Peppers,...    L  20.75  "
      ]
     },
     "execution_count": 24,
     "metadata": {},
     "output_type": "execute_result"
    }
   ],
   "source": [
    "final_df.head()"
   ]
  },
  {
   "cell_type": "markdown",
   "id": "a58e3858",
   "metadata": {},
   "source": [
    "*Performing  Data Cleaning*"
   ]
  },
  {
   "cell_type": "code",
   "execution_count": 25,
   "id": "8c7a1bb1",
   "metadata": {},
   "outputs": [
    {
     "data": {
      "text/plain": [
       "order_details_id    5\n",
       "order_id            5\n",
       "pizza_id            0\n",
       "quantity            5\n",
       "date                5\n",
       "time                5\n",
       "pizza_type_id       0\n",
       "name                0\n",
       "category            0\n",
       "ingredients         0\n",
       "size                0\n",
       "price               0\n",
       "dtype: int64"
      ]
     },
     "execution_count": 25,
     "metadata": {},
     "output_type": "execute_result"
    }
   ],
   "source": [
    "#Checking for missing values \n",
    "final_df.isna().sum()"
   ]
  },
  {
   "cell_type": "code",
   "execution_count": 13,
   "id": "cff8efa2",
   "metadata": {},
   "outputs": [
    {
     "data": {
      "text/plain": [
       "np.int64(0)"
      ]
     },
     "execution_count": 13,
     "metadata": {},
     "output_type": "execute_result"
    }
   ],
   "source": [
    "#Checking for duplicated items\n",
    "final_df.duplicated().sum()"
   ]
  },
  {
   "cell_type": "code",
   "execution_count": 14,
   "id": "30b98b36",
   "metadata": {},
   "outputs": [],
   "source": [
    "#Drop null/missing  nalues \n",
    "final_df.dropna(inplace=True)"
   ]
  },
  {
   "cell_type": "markdown",
   "id": "223b88d0",
   "metadata": {},
   "source": [
    "**Analyzing the Data**"
   ]
  },
  {
   "cell_type": "code",
   "execution_count": 18,
   "id": "0bcb15f5",
   "metadata": {},
   "outputs": [],
   "source": [
    "#Total for each row \n",
    "final_df[\"Total\"] = final_df[\"price\"] * final_df[\"quantity\"]"
   ]
  },
  {
   "cell_type": "code",
   "execution_count": 21,
   "id": "00d5140b",
   "metadata": {},
   "outputs": [
    {
     "name": "stdout",
     "output_type": "stream",
     "text": [
      "Total Revenue: 817860.0\n",
      "Total Quantity Sold: 49574.0\n",
      "Total Orders: 21350\n",
      "Pizza Types Sold: 32\n",
      "Average of Pizza Prics: 16.494132044426163\n"
     ]
    }
   ],
   "source": [
    "#Total Revenue \n",
    "total_revenue = final_df[\"Total\"].sum().round()\n",
    "#Total quantity sold \n",
    "total_quantity = final_df[\"quantity\"].sum()\n",
    "#Total Orders\n",
    "total_orders = final_df[\"order_id\"].nunique()\n",
    "#Number of pizza types sold \n",
    "piza_types = final_df[\"pizza_type_id\"].nunique()\n",
    "#Average price of the pizzas\n",
    "avg_price = final_df[\"price\"].mean()\n",
    "\n",
    "#Prints results\n",
    "print(f\"Total Revenue: {total_revenue}\")\n",
    "print(f\"Total Quantity Sold: {total_quantity}\")\n",
    "print(f\"Total Orders: {total_orders}\")\n",
    "print(f\"Pizza Types Sold: {piza_types}\")\n",
    "print(f\"Average of Pizza Prics: {avg_price}\")"
   ]
  },
  {
   "cell_type": "markdown",
   "id": "d074370d",
   "metadata": {},
   "source": [
    "*Peak Hours and Daily Trends*"
   ]
  },
  {
   "cell_type": "code",
   "execution_count": 22,
   "id": "c5ab2e30",
   "metadata": {},
   "outputs": [],
   "source": [
    " #Converting date nd time to datetime format\n",
    "final_df[\"Datetime\"] = pd.to_datetime(final_df[\"time\"] +\" \" + final_df[\"date\"])"
   ]
  },
  {
   "cell_type": "code",
   "execution_count": null,
   "id": "5819f705",
   "metadata": {},
   "outputs": [
    {
     "name": "stdout",
     "output_type": "stream",
     "text": [
      "Hourly Sales:Hour\n",
      "12    111877.90\n",
      "13    106065.70\n",
      "18     89296.85\n",
      "17     86237.45\n",
      "19     72628.90\n",
      "16     70055.40\n",
      "14     59201.40\n",
      "20     58215.40\n",
      "15     52992.30\n",
      "11     44935.80\n",
      "21     42029.80\n",
      "22     22815.15\n",
      "23      1121.35\n",
      "10       303.65\n",
      "9         83.00\n",
      "Name: Total, dtype: float64\n",
      "Total Sales per Day:Day_of_Week\n",
      "Friday       136073.90\n",
      "Thursday     123528.50\n",
      "Saturday     123182.40\n",
      "Wednesday    114408.40\n",
      "Tuesday      114133.80\n",
      "Monday       107329.55\n",
      "Sunday        99203.50\n",
      "Name: Total, dtype: float64\n"
     ]
    }
   ],
   "source": [
    "#Extracting hourly,daily and monthly data\n",
    "final_df[\"Hour\"] = final_df[\"Datetime\"].dt.hour\n",
    "final_df[\"Day_of_Week\"] = final_df[\"Datetime\"].dt.day_name()\n",
    "final_df[\"Month\"] = final_df[\"Datetime\"].dt.month_name()\n",
    "\n",
    "#Peak hours of sales \n",
    "hourly_sales = final_df.groupby(\"Hour\")[\"Total\"].sum().sort_values(ascending=False)\n",
    "\n",
    "#Total Sales per day\n",
    "daily_sales = final_df.groupby(\"Day_of_Week\")[\"Total\"].sum().sort_values(ascending=False)\n",
    "\n",
    "print(f\"Hourly Sales:{hourly_sales}\")\n",
    "print(f\"Total Sales per Day:{daily_sales}\")"
   ]
  },
  {
   "cell_type": "markdown",
   "id": "2ada8aaf",
   "metadata": {},
   "source": [
    "Based on the hourly sales analysis, the peak sales period occurs between **12:00 PM and 4:00 PM (12–16 hours)** ,with **12:00 PM showing the highest sales**. Examining sales by day, **Friday records the highest total sales**, followed closely by Thursday and Saturday. This indicates that **midday hours and Fridays are the most profitable periods**."
   ]
  },
  {
   "cell_type": "markdown",
   "id": "f66596ad",
   "metadata": {},
   "source": [
    "*Best Sellers and Underperformers*"
   ]
  },
  {
   "cell_type": "code",
   "execution_count": 45,
   "id": "e68e202f",
   "metadata": {},
   "outputs": [
    {
     "name": "stdout",
     "output_type": "stream",
     "text": [
      "Top 5 pizzas according Quantity: name\n",
      "The Classic Deluxe Pizza      2453.0\n",
      "The Barbecue Chicken Pizza    2432.0\n",
      "The Hawaiian Pizza            2422.0\n",
      "The Pepperoni Pizza           2418.0\n",
      "The Thai Chicken Pizza        2371.0\n",
      "Name: quantity, dtype: float64\n",
      "Top Selling Pizzas according to Revenue: name\n",
      "The Thai Chicken Pizza          43434.25\n",
      "The Barbecue Chicken Pizza      42768.00\n",
      "The California Chicken Pizza    41409.50\n",
      "The Classic Deluxe Pizza        38180.50\n",
      "The Spicy Italian Pizza         34831.25\n",
      "Name: Total, dtype: float64\n",
      "Least sold(bad market pizzas): name\n",
      "The Brie Carre Pizza         490.0\n",
      "The Mediterranean Pizza      934.0\n",
      "The Calabrese Pizza          937.0\n",
      "The Spinach Supreme Pizza    950.0\n",
      "The Soppressata Pizza        961.0\n",
      "Name: quantity, dtype: float64\n"
     ]
    }
   ],
   "source": [
    "#Top 5 pizzas by quantity sold \n",
    "top5_quantity = final_df.groupby(\"name\")['quantity'].sum().sort_values(ascending=False).head(5)\n",
    "\n",
    "#Top selling pizzas by revenue \n",
    "top5_revenue = final_df.groupby(\"name\")['Total'].sum().sort_values(ascending=False).head(5)\n",
    "\n",
    "#Bottom Sellers (underperformers)\n",
    "bottom_pizzas = final_df.groupby(\"name\")['quantity'].sum().sort_values().head(5)\n",
    "\n",
    "print(f\"Top 5 pizzas according Quantity: {top5_quantity}\")\n",
    "print(f\"Top Selling Pizzas according to Revenue: {top5_revenue}\")\n",
    "print(f\"Least sold(bad market pizzas): {bottom_pizzas}\")"
   ]
  },
  {
   "cell_type": "markdown",
   "id": "bbd38129",
   "metadata": {},
   "source": [
    "According to the sales analysis, we have the best sellers according to sales and revenue with **Classis Deluxe Pizza** and **the Barbecue Chicken Pizza** appearing in both revenue and quantity list and it makes these two pizzas the overall bestsellers. Some pizzas appear on top performer for quantity but not for revenue because they are cheap and people tend to buy more at a lesser amount.\n",
    "\n",
    "For the **underperformers**, they seller should consider reducing the price of these pizzas."
   ]
  },
  {
   "cell_type": "code",
   "execution_count": 54,
   "id": "2ded3acd",
   "metadata": {},
   "outputs": [
    {
     "name": "stdout",
     "output_type": "stream",
     "text": [
      "Total Revenue for the year: 817860fcfa\n"
     ]
    }
   ],
   "source": [
    "#Total Revenue\n",
    "total_revenue = final_df[\"Total\"].sum()\n",
    "rev = math.floor(total_revenue)\n",
    "print(f\"Total Revenue for the year: {rev}fcfa\")"
   ]
  },
  {
   "cell_type": "code",
   "execution_count": 34,
   "id": "1753bc6e",
   "metadata": {},
   "outputs": [
    {
     "data": {
      "text/plain": [
       "Month\n",
       "October      3883.0\n",
       "September    3890.0\n",
       "December     3935.0\n",
       "February     3961.0\n",
       "June         4107.0\n",
       "April        4151.0\n",
       "August       4168.0\n",
       "January      4232.0\n",
       "March        4261.0\n",
       "November     4266.0\n",
       "May          4328.0\n",
       "July         4392.0\n",
       "Name: quantity, dtype: float64"
      ]
     },
     "execution_count": 34,
     "metadata": {},
     "output_type": "execute_result"
    }
   ],
   "source": [
    "#Sales made in each month \n",
    "monthly_sales = final_df.groupby(\"Month\")[\"quantity\"].sum().sort_values(ascending=True)\n",
    "\n",
    "monthly_sales"
   ]
  },
  {
   "cell_type": "markdown",
   "id": "85c4d5b5",
   "metadata": {},
   "source": [
    "From the above analysis we notice that that **July** is the month with the highest sales closely followed by  **May** and the monnths with the lowest sales been **October** and **September**. "
   ]
  },
  {
   "cell_type": "markdown",
   "id": "7bcee522",
   "metadata": {},
   "source": [
    "*Visualizing Data insights using Plots*"
   ]
  },
  {
   "cell_type": "code",
   "execution_count": 35,
   "id": "e8be3a06",
   "metadata": {},
   "outputs": [
    {
     "name": "stderr",
     "output_type": "stream",
     "text": [
      "C:\\Users\\USER\\AppData\\Local\\Temp\\ipykernel_896\\3075594398.py:4: FutureWarning: \n",
      "\n",
      "Passing `palette` without assigning `hue` is deprecated and will be removed in v0.14.0. Assign the `x` variable to `hue` and set `legend=False` for the same effect.\n",
      "\n",
      "  sns.barplot(x=hourly_sales.index, y=hourly_sales.values, palette='magma')\n"
     ]
    },
    {
     "data": {
      "image/png": "[encoded data removed]",
      "text/plain": [
       "<Figure size 1500x600 with 1 Axes>"
      ]
     },
     "metadata": {},
     "output_type": "display_data"
    }
   ],
   "source": [
    "sns.set(style= \"whitegrid\")\n",
    "\n",
    "plt.figure(figsize=(15,6))\n",
    "sns.barplot(x=hourly_sales.index, y=hourly_sales.values, palette='magma')\n",
    "plt.title(\"Total Sales per Hour\")\n",
    "plt.xlabel('Time')\n",
    "plt.ylabel('Amount Sold')\n",
    "plt.show()"
   ]
  },
  {
   "cell_type": "code",
   "execution_count": 57,
   "id": "bd6b8d3e",
   "metadata": {},
   "outputs": [
    {
     "data": {
      "image/png": "[encoded data removed]",
      "text/plain": [
       "<Figure size 1200x600 with 1 Axes>"
      ]
     },
     "metadata": {},
     "output_type": "display_data"
    }
   ],
   "source": [
    "#Monthly sales trend \n",
    "# Plot\n",
    "monthly_sales.plot(kind='line', marker='o', figsize=(12,6))\n",
    "plt.title(\"Monthly Sales Trend\")\n",
    "plt.xlabel(\"Month\")\n",
    "plt.ylabel(\"Sales\")\n",
    "plt.show()"
   ]
  },
  {
   "cell_type": "code",
   "execution_count": 37,
   "id": "cfd89129",
   "metadata": {},
   "outputs": [
    {
     "data": {
      "image/png": "[encoded data removed]",
      "text/plain": [
       "<Figure size 1200x600 with 2 Axes>"
      ]
     },
     "metadata": {},
     "output_type": "display_data"
    }
   ],
   "source": [
    "#Hourly vs Day Heatmap\n",
    "\n",
    "hour_day_sales = final_df.pivot_table(values=\"Total\", index=\"Hour\", columns=\"Day_of_Week\", aggfunc=\"sum\")\n",
    "plt.figure(figsize=(12,6))\n",
    "sns.heatmap(hour_day_sales, cmap=\"coolwarm\", annot=True, fmt=\".0f\")\n",
    "plt.title(\"Sales Heatmap: Hour vs Day of Week\")\n",
    "plt.show()"
   ]
  },
  {
   "cell_type": "code",
   "execution_count": null,
   "id": "ab23cab5",
   "metadata": {},
   "outputs": [],
   "source": []
  }
 ],
 "metadata": {
  "kernelspec": {
   "display_name": "base",
   "language": "python",
   "name": "python3"
  },
  "language_info": {
   "codemirror_mode": {
    "name": "ipython",
    "version": 3
   },
   "file_extension": ".py",
   "mimetype": "text/x-python",
   "name": "python",
   "nbconvert_exporter": "python",
   "pygments_lexer": "ipython3",
   "version": "3.13.5"
  }
 },
 "nbformat": 4,
 "nbformat_minor": 5
}
